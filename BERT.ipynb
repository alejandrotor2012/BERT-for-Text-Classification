{
 "cells": [
  {
   "cell_type": "markdown",
   "metadata": {
    "id": "uaQEa2Z22f8j"
   },
   "source": [
    "# **Sponsored Practicum Project:**\n",
    "\n",
    "# **Capgemini's Effective Care Coordination (Case Study #4)**"
   ]
  },
  {
   "cell_type": "markdown",
   "metadata": {
    "id": "CUw72GCV21hh"
   },
   "source": [
    "Problem Statement: \"Given a discharge summary, the task is to extract all the clinically actionable follow-up items in the note. Ex: appointments, lab work, procedures to be conducted, medications, etc.\n",
    "\n"
   ]
  },
  {
   "cell_type": "code",
   "execution_count": 3,
   "metadata": {
    "colab": {
     "base_uri": "https://localhost:8080/",
     "height": 0
    },
    "id": "rRqXir59BFm9",
    "outputId": "963e3057-34e2-45ed-ab3c-285c3de1c45d"
   },
   "outputs": [
    {
     "name": "stderr",
     "output_type": "stream",
     "text": [
      "WARNING:tensorflow:Please fix your imports. Module tensorflow.python.training.tracking.data_structures has been moved to tensorflow.python.trackable.data_structures. The old module will be deleted in version 2.11.\n"
     ]
    }
   ],
   "source": [
    "#Importing necessary libraries\n",
    "import ast\n",
    "import tensorflow as tf\n",
    "import tensorflow_hub as hub\n",
    "import tensorflow_text as text\n",
    "from sklearn.model_selection import train_test_split\n",
    "import numpy as np\n",
    "import random\n",
    "from tensorflow.compat.v1 import ConfigProto\n",
    "from tensorflow.compat.v1 import InteractiveSession\n",
    "import pandas as pd \n",
    "from sklearn.model_selection import train_test_split \n",
    "import os\n",
    "from keras.models import Sequential, Model\n",
    "from keras.layers import Dense, Input\n",
    "import os\n",
    "\n",
    "#importing models via tfhub's APIs below\n",
    "os.environ[\"TFHUB_CACHE_DIR\"] = \"C:/Users/ALEJA/Desktop/GeorgiaTech/Fall 2022/Final Project\"\n",
    " #API fetching a word encoder acting as a preprocessing step before passing on to BERT.\n",
    "bert_preprocess = hub.KerasLayer(\"https://tfhub.dev/tensorflow/bert_en_uncased_preprocess/3\")\n",
    "#API from tfhub fetching a 10 layer BERT model (BERT base)\n",
    "bert_encoder = hub.KerasLayer(\"https://tfhub.dev/tensorflow/small_bert/bert_en_uncased_L-10_H-768_A-12/2\")"
   ]
  },
  {
   "cell_type": "code",
   "execution_count": 41,
   "metadata": {
    "id": "brxI90VmEAvJ"
   },
   "outputs": [],
   "source": [
    "#Function ultimately returning the records the model identified as follow up items. In other words all \n",
    "#predicted values (true positives and false positives). An optional \"doc_id\" may be passed to filter down to document id. \n",
    "\n",
    "def predicted_follow_ups(y_test0,y_predicted0,data0, docID =None):\n",
    "    news = pd.Series(y_predicted0)\n",
    "    news.index = y_test0.index\n",
    "    \n",
    "    formatted_data = data0.filter(items = news[news == 1].index.tolist() , axis = 0)[[\"doc_id\",\"sent_index\",\"sentence\",\"labels\"]]\n",
    "    \n",
    "    if docID == None:\n",
    "        \n",
    "        return formatted_data\n",
    "    else:\n",
    "        \n",
    "        return formatted_data[formatted_data[\"doc_id\"] == docID]\n",
    "    \n",
    "    "
   ]
  },
  {
   "cell_type": "markdown",
   "metadata": {
    "id": "cr51cFxVMlsB"
   },
   "source": [
    "Data is residing in a CSV obtained by running sponsor's JSON files using their provided \"python convert_json_to_csv_py\" file per READ ME instructions."
   ]
  },
  {
   "cell_type": "code",
   "execution_count": 5,
   "metadata": {
    "colab": {
     "base_uri": "https://localhost:8080/",
     "height": 263
    },
    "id": "1LXQjMX3ESCU",
    "outputId": "e60b45e2-e040-442b-91a7-d46ce9604a0c"
   },
   "outputs": [
    {
     "data": {
      "text/html": [
       "\n",
       "     <input type=\"file\" id=\"files-25cec698-726a-4786-ba7a-9c662fa1314d\" name=\"files[]\" multiple disabled\n",
       "        style=\"border:none\" />\n",
       "     <output id=\"result-25cec698-726a-4786-ba7a-9c662fa1314d\">\n",
       "      Upload widget is only available when the cell has been executed in the\n",
       "      current browser session. Please rerun this cell to enable.\n",
       "      </output>\n",
       "      <script>// Copyright 2017 Google LLC\n",
       "//\n",
       "// Licensed under the Apache License, Version 2.0 (the \"License\");\n",
       "// you may not use this file except in compliance with the License.\n",
       "// You may obtain a copy of the License at\n",
       "//\n",
       "//      http://www.apache.org/licenses/LICENSE-2.0\n",
       "//\n",
       "// Unless required by applicable law or agreed to in writing, software\n",
       "// distributed under the License is distributed on an \"AS IS\" BASIS,\n",
       "// WITHOUT WARRANTIES OR CONDITIONS OF ANY KIND, either express or implied.\n",
       "// See the License for the specific language governing permissions and\n",
       "// limitations under the License.\n",
       "\n",
       "/**\n",
       " * @fileoverview Helpers for google.colab Python module.\n",
       " */\n",
       "(function(scope) {\n",
       "function span(text, styleAttributes = {}) {\n",
       "  const element = document.createElement('span');\n",
       "  element.textContent = text;\n",
       "  for (const key of Object.keys(styleAttributes)) {\n",
       "    element.style[key] = styleAttributes[key];\n",
       "  }\n",
       "  return element;\n",
       "}\n",
       "\n",
       "// Max number of bytes which will be uploaded at a time.\n",
       "const MAX_PAYLOAD_SIZE = 100 * 1024;\n",
       "\n",
       "function _uploadFiles(inputId, outputId) {\n",
       "  const steps = uploadFilesStep(inputId, outputId);\n",
       "  const outputElement = document.getElementById(outputId);\n",
       "  // Cache steps on the outputElement to make it available for the next call\n",
       "  // to uploadFilesContinue from Python.\n",
       "  outputElement.steps = steps;\n",
       "\n",
       "  return _uploadFilesContinue(outputId);\n",
       "}\n",
       "\n",
       "// This is roughly an async generator (not supported in the browser yet),\n",
       "// where there are multiple asynchronous steps and the Python side is going\n",
       "// to poll for completion of each step.\n",
       "// This uses a Promise to block the python side on completion of each step,\n",
       "// then passes the result of the previous step as the input to the next step.\n",
       "function _uploadFilesContinue(outputId) {\n",
       "  const outputElement = document.getElementById(outputId);\n",
       "  const steps = outputElement.steps;\n",
       "\n",
       "  const next = steps.next(outputElement.lastPromiseValue);\n",
       "  return Promise.resolve(next.value.promise).then((value) => {\n",
       "    // Cache the last promise value to make it available to the next\n",
       "    // step of the generator.\n",
       "    outputElement.lastPromiseValue = value;\n",
       "    return next.value.response;\n",
       "  });\n",
       "}\n",
       "\n",
       "/**\n",
       " * Generator function which is called between each async step of the upload\n",
       " * process.\n",
       " * @param {string} inputId Element ID of the input file picker element.\n",
       " * @param {string} outputId Element ID of the output display.\n",
       " * @return {!Iterable<!Object>} Iterable of next steps.\n",
       " */\n",
       "function* uploadFilesStep(inputId, outputId) {\n",
       "  const inputElement = document.getElementById(inputId);\n",
       "  inputElement.disabled = false;\n",
       "\n",
       "  const outputElement = document.getElementById(outputId);\n",
       "  outputElement.innerHTML = '';\n",
       "\n",
       "  const pickedPromise = new Promise((resolve) => {\n",
       "    inputElement.addEventListener('change', (e) => {\n",
       "      resolve(e.target.files);\n",
       "    });\n",
       "  });\n",
       "\n",
       "  const cancel = document.createElement('button');\n",
       "  inputElement.parentElement.appendChild(cancel);\n",
       "  cancel.textContent = 'Cancel upload';\n",
       "  const cancelPromise = new Promise((resolve) => {\n",
       "    cancel.onclick = () => {\n",
       "      resolve(null);\n",
       "    };\n",
       "  });\n",
       "\n",
       "  // Wait for the user to pick the files.\n",
       "  const files = yield {\n",
       "    promise: Promise.race([pickedPromise, cancelPromise]),\n",
       "    response: {\n",
       "      action: 'starting',\n",
       "    }\n",
       "  };\n",
       "\n",
       "  cancel.remove();\n",
       "\n",
       "  // Disable the input element since further picks are not allowed.\n",
       "  inputElement.disabled = true;\n",
       "\n",
       "  if (!files) {\n",
       "    return {\n",
       "      response: {\n",
       "        action: 'complete',\n",
       "      }\n",
       "    };\n",
       "  }\n",
       "\n",
       "  for (const file of files) {\n",
       "    const li = document.createElement('li');\n",
       "    li.append(span(file.name, {fontWeight: 'bold'}));\n",
       "    li.append(span(\n",
       "        `(${file.type || 'n/a'}) - ${file.size} bytes, ` +\n",
       "        `last modified: ${\n",
       "            file.lastModifiedDate ? file.lastModifiedDate.toLocaleDateString() :\n",
       "                                    'n/a'} - `));\n",
       "    const percent = span('0% done');\n",
       "    li.appendChild(percent);\n",
       "\n",
       "    outputElement.appendChild(li);\n",
       "\n",
       "    const fileDataPromise = new Promise((resolve) => {\n",
       "      const reader = new FileReader();\n",
       "      reader.onload = (e) => {\n",
       "        resolve(e.target.result);\n",
       "      };\n",
       "      reader.readAsArrayBuffer(file);\n",
       "    });\n",
       "    // Wait for the data to be ready.\n",
       "    let fileData = yield {\n",
       "      promise: fileDataPromise,\n",
       "      response: {\n",
       "        action: 'continue',\n",
       "      }\n",
       "    };\n",
       "\n",
       "    // Use a chunked sending to avoid message size limits. See b/62115660.\n",
       "    let position = 0;\n",
       "    do {\n",
       "      const length = Math.min(fileData.byteLength - position, MAX_PAYLOAD_SIZE);\n",
       "      const chunk = new Uint8Array(fileData, position, length);\n",
       "      position += length;\n",
       "\n",
       "      const base64 = btoa(String.fromCharCode.apply(null, chunk));\n",
       "      yield {\n",
       "        response: {\n",
       "          action: 'append',\n",
       "          file: file.name,\n",
       "          data: base64,\n",
       "        },\n",
       "      };\n",
       "\n",
       "      let percentDone = fileData.byteLength === 0 ?\n",
       "          100 :\n",
       "          Math.round((position / fileData.byteLength) * 100);\n",
       "      percent.textContent = `${percentDone}% done`;\n",
       "\n",
       "    } while (position < fileData.byteLength);\n",
       "  }\n",
       "\n",
       "  // All done.\n",
       "  yield {\n",
       "    response: {\n",
       "      action: 'complete',\n",
       "    }\n",
       "  };\n",
       "}\n",
       "\n",
       "scope.google = scope.google || {};\n",
       "scope.google.colab = scope.google.colab || {};\n",
       "scope.google.colab._files = {\n",
       "  _uploadFiles,\n",
       "  _uploadFilesContinue,\n",
       "};\n",
       "})(self);\n",
       "</script> "
      ],
      "text/plain": [
       "<IPython.core.display.HTML object>"
      ]
     },
     "metadata": {},
     "output_type": "display_data"
    },
    {
     "name": "stdout",
     "output_type": "stream",
     "text": [
      "Saving all_revised.csv to all_revised.csv\n"
     ]
    },
    {
     "data": {
      "text/html": [
       "\n",
       "  <div id=\"df-2232207f-8bfb-4056-a968-29370d888083\">\n",
       "    <div class=\"colab-df-container\">\n",
       "      <div>\n",
       "<style scoped>\n",
       "    .dataframe tbody tr th:only-of-type {\n",
       "        vertical-align: middle;\n",
       "    }\n",
       "\n",
       "    .dataframe tbody tr th {\n",
       "        vertical-align: top;\n",
       "    }\n",
       "\n",
       "    .dataframe thead th {\n",
       "        text-align: right;\n",
       "    }\n",
       "</style>\n",
       "<table border=\"1\" class=\"dataframe\">\n",
       "  <thead>\n",
       "    <tr style=\"text-align: right;\">\n",
       "      <th></th>\n",
       "      <th>doc_id</th>\n",
       "      <th>sent_index</th>\n",
       "      <th>sentence</th>\n",
       "      <th>labels</th>\n",
       "      <th>Labeled?</th>\n",
       "      <th>Label</th>\n",
       "      <th>real_sentence</th>\n",
       "      <th>real_sentence2</th>\n",
       "      <th>labels2</th>\n",
       "      <th>labels3</th>\n",
       "    </tr>\n",
       "  </thead>\n",
       "  <tbody>\n",
       "    <tr>\n",
       "      <th>0</th>\n",
       "      <td>10116</td>\n",
       "      <td>0</td>\n",
       "      <td>['Admission', 'Date', ':', '2002-05-01']</td>\n",
       "      <td>[]</td>\n",
       "      <td>1</td>\n",
       "      <td>0</td>\n",
       "      <td>[Admission, Date, :, 2002-05-01]</td>\n",
       "      <td>Admission Date : 2002-05-01</td>\n",
       "      <td>[]</td>\n",
       "      <td></td>\n",
       "    </tr>\n",
       "    <tr>\n",
       "      <th>1</th>\n",
       "      <td>10116</td>\n",
       "      <td>1</td>\n",
       "      <td>['Discharge', 'Date', ':', '1981-10-20']</td>\n",
       "      <td>[]</td>\n",
       "      <td>1</td>\n",
       "      <td>0</td>\n",
       "      <td>[Discharge, Date, :, 1981-10-20]</td>\n",
       "      <td>Discharge Date : 1981-10-20</td>\n",
       "      <td>[]</td>\n",
       "      <td></td>\n",
       "    </tr>\n",
       "    <tr>\n",
       "      <th>2</th>\n",
       "      <td>10116</td>\n",
       "      <td>2</td>\n",
       "      <td>['Date', 'of', 'Birth', ':', '2000-10-19']</td>\n",
       "      <td>[]</td>\n",
       "      <td>1</td>\n",
       "      <td>0</td>\n",
       "      <td>[Date, of, Birth, :, 2000-10-19]</td>\n",
       "      <td>Date of Birth : 2000-10-19</td>\n",
       "      <td>[]</td>\n",
       "      <td></td>\n",
       "    </tr>\n",
       "    <tr>\n",
       "      <th>3</th>\n",
       "      <td>10116</td>\n",
       "      <td>3</td>\n",
       "      <td>['Sex', ':', 'F']</td>\n",
       "      <td>[]</td>\n",
       "      <td>1</td>\n",
       "      <td>0</td>\n",
       "      <td>[Sex, :, F]</td>\n",
       "      <td>Sex : F</td>\n",
       "      <td>[]</td>\n",
       "      <td></td>\n",
       "    </tr>\n",
       "    <tr>\n",
       "      <th>4</th>\n",
       "      <td>10116</td>\n",
       "      <td>4</td>\n",
       "      <td>['Service', ':', 'MEDICINE']</td>\n",
       "      <td>[]</td>\n",
       "      <td>1</td>\n",
       "      <td>0</td>\n",
       "      <td>[Service, :, MEDICINE]</td>\n",
       "      <td>Service : MEDICINE</td>\n",
       "      <td>[]</td>\n",
       "      <td></td>\n",
       "    </tr>\n",
       "  </tbody>\n",
       "</table>\n",
       "</div>\n",
       "      <button class=\"colab-df-convert\" onclick=\"convertToInteractive('df-2232207f-8bfb-4056-a968-29370d888083')\"\n",
       "              title=\"Convert this dataframe to an interactive table.\"\n",
       "              style=\"display:none;\">\n",
       "        \n",
       "  <svg xmlns=\"http://www.w3.org/2000/svg\" height=\"24px\"viewBox=\"0 0 24 24\"\n",
       "       width=\"24px\">\n",
       "    <path d=\"M0 0h24v24H0V0z\" fill=\"none\"/>\n",
       "    <path d=\"M18.56 5.44l.94 2.06.94-2.06 2.06-.94-2.06-.94-.94-2.06-.94 2.06-2.06.94zm-11 1L8.5 8.5l.94-2.06 2.06-.94-2.06-.94L8.5 2.5l-.94 2.06-2.06.94zm10 10l.94 2.06.94-2.06 2.06-.94-2.06-.94-.94-2.06-.94 2.06-2.06.94z\"/><path d=\"M17.41 7.96l-1.37-1.37c-.4-.4-.92-.59-1.43-.59-.52 0-1.04.2-1.43.59L10.3 9.45l-7.72 7.72c-.78.78-.78 2.05 0 2.83L4 21.41c.39.39.9.59 1.41.59.51 0 1.02-.2 1.41-.59l7.78-7.78 2.81-2.81c.8-.78.8-2.07 0-2.86zM5.41 20L4 18.59l7.72-7.72 1.47 1.35L5.41 20z\"/>\n",
       "  </svg>\n",
       "      </button>\n",
       "      \n",
       "  <style>\n",
       "    .colab-df-container {\n",
       "      display:flex;\n",
       "      flex-wrap:wrap;\n",
       "      gap: 12px;\n",
       "    }\n",
       "\n",
       "    .colab-df-convert {\n",
       "      background-color: #E8F0FE;\n",
       "      border: none;\n",
       "      border-radius: 50%;\n",
       "      cursor: pointer;\n",
       "      display: none;\n",
       "      fill: #1967D2;\n",
       "      height: 32px;\n",
       "      padding: 0 0 0 0;\n",
       "      width: 32px;\n",
       "    }\n",
       "\n",
       "    .colab-df-convert:hover {\n",
       "      background-color: #E2EBFA;\n",
       "      box-shadow: 0px 1px 2px rgba(60, 64, 67, 0.3), 0px 1px 3px 1px rgba(60, 64, 67, 0.15);\n",
       "      fill: #174EA6;\n",
       "    }\n",
       "\n",
       "    [theme=dark] .colab-df-convert {\n",
       "      background-color: #3B4455;\n",
       "      fill: #D2E3FC;\n",
       "    }\n",
       "\n",
       "    [theme=dark] .colab-df-convert:hover {\n",
       "      background-color: #434B5C;\n",
       "      box-shadow: 0px 1px 3px 1px rgba(0, 0, 0, 0.15);\n",
       "      filter: drop-shadow(0px 1px 2px rgba(0, 0, 0, 0.3));\n",
       "      fill: #FFFFFF;\n",
       "    }\n",
       "  </style>\n",
       "\n",
       "      <script>\n",
       "        const buttonEl =\n",
       "          document.querySelector('#df-2232207f-8bfb-4056-a968-29370d888083 button.colab-df-convert');\n",
       "        buttonEl.style.display =\n",
       "          google.colab.kernel.accessAllowed ? 'block' : 'none';\n",
       "\n",
       "        async function convertToInteractive(key) {\n",
       "          const element = document.querySelector('#df-2232207f-8bfb-4056-a968-29370d888083');\n",
       "          const dataTable =\n",
       "            await google.colab.kernel.invokeFunction('convertToInteractive',\n",
       "                                                     [key], {});\n",
       "          if (!dataTable) return;\n",
       "\n",
       "          const docLinkHtml = 'Like what you see? Visit the ' +\n",
       "            '<a target=\"_blank\" href=https://colab.research.google.com/notebooks/data_table.ipynb>data table notebook</a>'\n",
       "            + ' to learn more about interactive tables.';\n",
       "          element.innerHTML = '';\n",
       "          dataTable['output_type'] = 'display_data';\n",
       "          await google.colab.output.renderOutput(dataTable, element);\n",
       "          const docLink = document.createElement('div');\n",
       "          docLink.innerHTML = docLinkHtml;\n",
       "          element.appendChild(docLink);\n",
       "        }\n",
       "      </script>\n",
       "    </div>\n",
       "  </div>\n",
       "  "
      ],
      "text/plain": [
       "   doc_id  sent_index                                    sentence labels  \\\n",
       "0   10116           0    ['Admission', 'Date', ':', '2002-05-01']     []   \n",
       "1   10116           1    ['Discharge', 'Date', ':', '1981-10-20']     []   \n",
       "2   10116           2  ['Date', 'of', 'Birth', ':', '2000-10-19']     []   \n",
       "3   10116           3                           ['Sex', ':', 'F']     []   \n",
       "4   10116           4                ['Service', ':', 'MEDICINE']     []   \n",
       "\n",
       "   Labeled?  Label                     real_sentence  \\\n",
       "0         1      0  [Admission, Date, :, 2002-05-01]   \n",
       "1         1      0  [Discharge, Date, :, 1981-10-20]   \n",
       "2         1      0  [Date, of, Birth, :, 2000-10-19]   \n",
       "3         1      0                       [Sex, :, F]   \n",
       "4         1      0            [Service, :, MEDICINE]   \n",
       "\n",
       "                real_sentence2 labels2 labels3  \n",
       "0  Admission Date : 2002-05-01      []          \n",
       "1  Discharge Date : 1981-10-20      []          \n",
       "2   Date of Birth : 2000-10-19      []          \n",
       "3                      Sex : F      []          \n",
       "4           Service : MEDICINE      []          "
      ]
     },
     "execution_count": 5,
     "metadata": {},
     "output_type": "execute_result"
    }
   ],
   "source": [
    "from google.colab import files\n",
    "import io\n",
    "import re\n",
    "import string\n",
    "#Loading data from csv into a dataframe and performing some transformations. \n",
    "\n",
    "uploaded = files.upload()\n",
    "data1 = pd.read_csv(io.BytesIO(uploaded[\"all_revised.csv\"]))\n",
    "\n",
    "unique_docs = set(data1[data1.labels != '[]'].doc_id)#Identifying labeled documents \n",
    "data1[\"Labeled?\"] = data1[\"doc_id\"].apply(lambda x: 1 if x in unique_docs else 0)#Identifying labeled documents \n",
    "data1[\"Label\"] = data1[\"labels\"].apply(lambda x: 1 if x != \"[]\" else 0)#Identifying labeled records\n",
    "data1[\"real_sentence\"] = data1[\"sentence\"].apply(lambda x: ast.literal_eval(x))\n",
    "data1[\"real_sentence2\"] = data1[\"real_sentence\"].apply(lambda x: \" \".join(x))\n",
    "data1[\"labels2\"] = data1[\"labels\"].apply(lambda x: ast.literal_eval(x))#This field created for data exploration purposes\n",
    "data1[\"labels3\"] = data1[\"labels2\"].apply(lambda x: \" \".join(x))#This field created for data exploration purposes\n",
    "\n",
    "data1.head()"
   ]
  },
  {
   "cell_type": "markdown",
   "metadata": {
    "id": "hkbrt8ZiMvRW"
   },
   "source": [
    "# **Data Exploration**"
   ]
  },
  {
   "cell_type": "code",
   "execution_count": 6,
   "metadata": {
    "colab": {
     "base_uri": "https://localhost:8080/",
     "height": 0
    },
    "id": "QOUV5he8BGWU",
    "outputId": "65f4705e-4be5-4627-bd9c-b96dbdcfdcec"
   },
   "outputs": [
    {
     "data": {
      "text/plain": [
       "['I-Medication-related followups',\n",
       " 'I-Appointment-related followup',\n",
       " 'I-Lab-related followup',\n",
       " 'I-Case-specific instructions for patient',\n",
       " 'I-Other helpful contextual information',\n",
       " 'I-Procedure-related followup',\n",
       " 'I-Imaging-related followup']"
      ]
     },
     "execution_count": 6,
     "metadata": {},
     "output_type": "execute_result"
    }
   ],
   "source": [
    "#Below code extracts the distinct labels from the annotated dataset\n",
    "ll = data1[\"labels2\"].tolist()\n",
    "\n",
    "new_list= []\n",
    "\n",
    "for item in ll:\n",
    "    for i in item:\n",
    "        if i not in new_list:\n",
    "            new_list.append(i)\n",
    "            \n",
    "new_list"
   ]
  },
  {
   "cell_type": "markdown",
   "metadata": {
    "id": "SvK4E1AGM9OC"
   },
   "source": [
    "Data split in data exploration step in order to confirm proper stratification took place:\n",
    "\n"
   ]
  },
  {
   "cell_type": "code",
   "execution_count": 27,
   "metadata": {
    "id": "0-VZFIquFlWJ"
   },
   "outputs": [],
   "source": [
    "#Splitting dataset into training and test subsets (75% and 25%, respectively) and setting seeds (keras requires ALL the seeds for reproducible results for some reason)\n",
    "seed_value= 777\n",
    "os.environ['PYTHONHASHSEED']=str(seed_value)\n",
    "random.seed(seed_value)\n",
    "np.random.seed(seed_value)\n",
    "tf.random.set_seed(seed_value)\n",
    "\n",
    "\n",
    "x_train, x_test, y_train, y_test = train_test_split(data1[\"real_sentence2\"], data1[\"Label\"], stratify = data1[\"Label\"], random_state = 532)"
   ]
  },
  {
   "cell_type": "code",
   "execution_count": 28,
   "metadata": {
    "colab": {
     "base_uri": "https://localhost:8080/",
     "height": 0
    },
    "id": "byMzFRsJFm7Z",
    "outputId": "3f7ebf4b-d873-49fb-f326-1cae2dff6893"
   },
   "outputs": [
    {
     "name": "stdout",
     "output_type": "stream",
     "text": [
      "Total num. of records: 107952\n",
      "Total num. of labeled records : 12115\n",
      "Total num. of labeled documents : 664\n",
      "--------------------------------------------------------------\n",
      "Total num. of records in training dataset: 80964\n",
      "Total num. of labeled records in training dataset: 9086\n",
      "Total num. of records in test dataset: 26988\n",
      "Total num. of labeled records in test dataset: 3029\n"
     ]
    }
   ],
   "source": [
    "print(\"Total num. of records: \" + str(len(data1[\"Label\"])))\n",
    "print(\"Total num. of labeled records : \" + str(sum(data1[\"Label\"])))\n",
    "print(\"Total num. of labeled documents : \" + str(len(set(data1[[\"doc_id\",\"Labeled?\"]][data1[\"Labeled?\"] == 1][\"doc_id\"]))))\n",
    "print(\"--------------------------------------------------------------\")\n",
    "print(\"Total num. of records in training dataset: \" + str(len(x_train)))\n",
    "print(\"Total num. of labeled records in training dataset: \" + str(sum(y_train)))\n",
    "print(\"Total num. of records in test dataset: \" + str(len(x_test)))\n",
    "print(\"Total num. of labeled records in test dataset: \" + str(sum(y_test)))"
   ]
  },
  {
   "cell_type": "markdown",
   "metadata": {
    "id": "V4vcesuzNA2F"
   },
   "source": [
    "# **Model Development**"
   ]
  },
  {
   "cell_type": "code",
   "execution_count": 30,
   "metadata": {
    "id": "HRWP2wkNFoae"
   },
   "outputs": [],
   "source": [
    "#Model metrics\n",
    "METRICS = [tf.keras.metrics.BinaryAccuracy(name='accuracy'),\n",
    "           tf.keras.metrics.Precision(name='precision'),tf.keras.metrics.Recall(name='recall')]\n",
    "\n",
    "\n",
    "#BERT model preparation\n",
    "text_input = tf.keras.layers.Input(shape=(), dtype=tf.string, name='text')\n",
    "preprocessed_text = bert_preprocess(text_input)\n",
    "outputs = bert_encoder(preprocessed_text)\n",
    "\n",
    "#Passing the final sentence encoding from BERT trough a neural network to conduct classification task\n",
    "hidden1 = tf.keras.layers.Dropout(0.0, name=\"dropout\")(outputs['pooled_output'])\n",
    "hidden12 = tf.keras.layers.Dense(90, activation='relu', name=\"hidden12\")(hidden1)\n",
    "hidden2 = tf.keras.layers.Dense(50, activation='relu', name=\"hidden2\")(hidden12)\n",
    "hidden21 = tf.keras.layers.Dense(30, activation='relu', name=\"hidden21\")(hidden2)\n",
    "hidden3 = tf.keras.layers.Dense(1, activation='sigmoid', name=\"hidden3\")(hidden21)\n",
    "model = tf.keras.Model(inputs=[text_input], outputs = [hidden3])"
   ]
  },
  {
   "cell_type": "code",
   "execution_count": 31,
   "metadata": {
    "colab": {
     "base_uri": "https://localhost:8080/",
     "height": 0
    },
    "id": "T0Wj-fUUt_Hr",
    "outputId": "e9246404-42ec-484b-b49e-2242c8b41575"
   },
   "outputs": [
    {
     "name": "stdout",
     "output_type": "stream",
     "text": [
      "Epoch 1/9\n",
      "2531/2531 [==============================] - 167s 65ms/step - loss: 0.1816 - accuracy: 0.9374 - precision: 0.8067 - recall: 0.5817\n",
      "Epoch 2/9\n",
      "2531/2531 [==============================] - 165s 65ms/step - loss: 0.1481 - accuracy: 0.9494 - precision: 0.8293 - recall: 0.6910\n",
      "Epoch 3/9\n",
      "2531/2531 [==============================] - 165s 65ms/step - loss: 0.1371 - accuracy: 0.9527 - precision: 0.8361 - recall: 0.7201\n",
      "Epoch 4/9\n",
      "2531/2531 [==============================] - 165s 65ms/step - loss: 0.1292 - accuracy: 0.9558 - precision: 0.8440 - recall: 0.7432\n",
      "Epoch 5/9\n",
      "2531/2531 [==============================] - 165s 65ms/step - loss: 0.1239 - accuracy: 0.9580 - precision: 0.8521 - recall: 0.7569\n",
      "Epoch 6/9\n",
      "2531/2531 [==============================] - 165s 65ms/step - loss: 0.1202 - accuracy: 0.9590 - precision: 0.8567 - recall: 0.7625\n",
      "Epoch 7/9\n",
      "2531/2531 [==============================] - 165s 65ms/step - loss: 0.1164 - accuracy: 0.9603 - precision: 0.8574 - recall: 0.7751\n",
      "Epoch 8/9\n",
      "2531/2531 [==============================] - 165s 65ms/step - loss: 0.1135 - accuracy: 0.9614 - precision: 0.8618 - recall: 0.7811\n",
      "Epoch 9/9\n",
      "2531/2531 [==============================] - 165s 65ms/step - loss: 0.1100 - accuracy: 0.9618 - precision: 0.8633 - recall: 0.7836\n",
      "844/844 [==============================] - 52s 61ms/step\n"
     ]
    }
   ],
   "source": [
    "#Model fitting using training data\n",
    "model.compile(optimizer='adam',loss='binary_crossentropy',metrics=METRICS)\n",
    "model.fit(x_train, y_train, epochs= 9)\n",
    "\n",
    "#Model prediction testing data\n",
    "y_predicted = model.predict(x_test)\n",
    "y_predicted = y_predicted.flatten()"
   ]
  },
  {
   "cell_type": "code",
   "execution_count": 35,
   "metadata": {
    "id": "tfNaS6iY9znI"
   },
   "outputs": [],
   "source": [
    "#Turning predictions(as probabilities) to classifications\n",
    "y_predicted1 = np.where(y_predicted >= 0.25, 1, 0) #Creating another variable for classifications as to preserve original to play around with threshold."
   ]
  },
  {
   "cell_type": "markdown",
   "metadata": {
    "id": "9xBd5muPNLD2"
   },
   "source": [
    "# **Results**"
   ]
  },
  {
   "cell_type": "markdown",
   "metadata": {
    "id": "zWKgO5h2NQN8"
   },
   "source": [
    "Confusion matrix for detail\n",
    "\n"
   ]
  },
  {
   "cell_type": "code",
   "execution_count": 42,
   "metadata": {
    "colab": {
     "base_uri": "https://localhost:8080/",
     "height": 296
    },
    "id": "rgoKxCnc34D3",
    "outputId": "6aec13e2-9f02-45a3-cac3-23674a9b63db"
   },
   "outputs": [
    {
     "data": {
      "text/plain": [
       "Text(33.0, 0.5, 'Truth')"
      ]
     },
     "execution_count": 42,
     "metadata": {},
     "output_type": "execute_result"
    },
    {
     "data": {
      "image/png": "[encoded data removed]",
      "text/plain": [
       "<Figure size 432x288 with 2 Axes>"
      ]
     },
     "metadata": {
      "needs_background": "light"
     },
     "output_type": "display_data"
    }
   ],
   "source": [
    "from sklearn.metrics import confusion_matrix, classification_report\n",
    "\n",
    "cm = confusion_matrix(y_test, y_predicted1)\n",
    "\n",
    "from matplotlib import pyplot as plt\n",
    "import seaborn as sn\n",
    "sn.heatmap(cm, annot=True, fmt='d')\n",
    "plt.xlabel('Predicted')\n",
    "plt.ylabel('Truth')"
   ]
  },
  {
   "cell_type": "code",
   "execution_count": 43,
   "metadata": {
    "colab": {
     "base_uri": "https://localhost:8080/",
     "height": 0
    },
    "id": "jit3S_kF99Hq",
    "outputId": "d40aa3f9-be69-4753-d802-8f2758fe98fb"
   },
   "outputs": [
    {
     "name": "stdout",
     "output_type": "stream",
     "text": [
      "              precision    recall  f1-score   support\n",
      "\n",
      "           0       0.98      0.98      0.98     23959\n",
      "           1       0.81      0.81      0.81      3029\n",
      "\n",
      "    accuracy                           0.96     26988\n",
      "   macro avg       0.89      0.89      0.89     26988\n",
      "weighted avg       0.96      0.96      0.96     26988\n",
      "\n"
     ]
    }
   ],
   "source": [
    "print(classification_report(y_test, y_predicted1))"
   ]
  },
  {
   "cell_type": "code",
   "execution_count": 44,
   "metadata": {
    "colab": {
     "base_uri": "https://localhost:8080/",
     "height": 424
    },
    "id": "uoZUJyt1MKxZ",
    "outputId": "adfac179-dbd2-4780-a5e2-1f6f141b3730"
   },
   "outputs": [
    {
     "data": {
      "text/html": [
       "\n",
       "  <div id=\"df-9d4291da-4b8c-48d1-befc-261041921ca0\">\n",
       "    <div class=\"colab-df-container\">\n",
       "      <div>\n",
       "<style scoped>\n",
       "    .dataframe tbody tr th:only-of-type {\n",
       "        vertical-align: middle;\n",
       "    }\n",
       "\n",
       "    .dataframe tbody tr th {\n",
       "        vertical-align: top;\n",
       "    }\n",
       "\n",
       "    .dataframe thead th {\n",
       "        text-align: right;\n",
       "    }\n",
       "</style>\n",
       "<table border=\"1\" class=\"dataframe\">\n",
       "  <thead>\n",
       "    <tr style=\"text-align: right;\">\n",
       "      <th></th>\n",
       "      <th>doc_id</th>\n",
       "      <th>sent_index</th>\n",
       "      <th>sentence</th>\n",
       "      <th>labels</th>\n",
       "    </tr>\n",
       "  </thead>\n",
       "  <tbody>\n",
       "    <tr>\n",
       "      <th>31184</th>\n",
       "      <td>27200</td>\n",
       "      <td>120</td>\n",
       "      <td>['#', '.', 'Communication', ':', 'Patient', 'S...</td>\n",
       "      <td>[]</td>\n",
       "    </tr>\n",
       "    <tr>\n",
       "      <th>45922</th>\n",
       "      <td>34195</td>\n",
       "      <td>113</td>\n",
       "      <td>['Followup', 'Instructions', ':']</td>\n",
       "      <td>['I-Appointment-related followup', 'I-Case-spe...</td>\n",
       "    </tr>\n",
       "    <tr>\n",
       "      <th>28741</th>\n",
       "      <td>26493</td>\n",
       "      <td>236</td>\n",
       "      <td>['2', '.', 'Infectious', 'disease', 'followup'...</td>\n",
       "      <td>['I-Appointment-related followup']</td>\n",
       "    </tr>\n",
       "    <tr>\n",
       "      <th>46283</th>\n",
       "      <td>34338</td>\n",
       "      <td>97</td>\n",
       "      <td>['Craig', 'Gabrielle', 'Hamilton', 'Phone', ':']</td>\n",
       "      <td>['I-Appointment-related followup', 'I-Case-spe...</td>\n",
       "    </tr>\n",
       "    <tr>\n",
       "      <th>54126</th>\n",
       "      <td>37447</td>\n",
       "      <td>91</td>\n",
       "      <td>['You', 'will', 'have', 'have', 'hoarse', 'voi...</td>\n",
       "      <td>['I-Case-specific instructions for patient']</td>\n",
       "    </tr>\n",
       "    <tr>\n",
       "      <th>...</th>\n",
       "      <td>...</td>\n",
       "      <td>...</td>\n",
       "      <td>...</td>\n",
       "      <td>...</td>\n",
       "    </tr>\n",
       "    <tr>\n",
       "      <th>57667</th>\n",
       "      <td>39211</td>\n",
       "      <td>199</td>\n",
       "      <td>['-', 'At', 'the', '3-week', 'visit', ',', 'th...</td>\n",
       "      <td>['I-Case-specific instructions for patient', '...</td>\n",
       "    </tr>\n",
       "    <tr>\n",
       "      <th>56784</th>\n",
       "      <td>39046</td>\n",
       "      <td>160</td>\n",
       "      <td>['You', 'were', 'also', 'started', 'back', 'on...</td>\n",
       "      <td>['I-Case-specific instructions for patient']</td>\n",
       "    </tr>\n",
       "    <tr>\n",
       "      <th>58898</th>\n",
       "      <td>39957</td>\n",
       "      <td>137</td>\n",
       "      <td>['Campus', ':']</td>\n",
       "      <td>['I-Appointment-related followup']</td>\n",
       "    </tr>\n",
       "    <tr>\n",
       "      <th>54477</th>\n",
       "      <td>37687</td>\n",
       "      <td>115</td>\n",
       "      <td>['?', '?', '?', '?', '?', '?', 'After', '1', '...</td>\n",
       "      <td>[]</td>\n",
       "    </tr>\n",
       "    <tr>\n",
       "      <th>181</th>\n",
       "      <td>10116</td>\n",
       "      <td>181</td>\n",
       "      <td>['Orthopedic', 'Surgery', '(', 'Spine', ')', '...</td>\n",
       "      <td>['I-Appointment-related followup', 'I-Case-spe...</td>\n",
       "    </tr>\n",
       "  </tbody>\n",
       "</table>\n",
       "<p>3021 rows × 4 columns</p>\n",
       "</div>\n",
       "      <button class=\"colab-df-convert\" onclick=\"convertToInteractive('df-9d4291da-4b8c-48d1-befc-261041921ca0')\"\n",
       "              title=\"Convert this dataframe to an interactive table.\"\n",
       "              style=\"display:none;\">\n",
       "        \n",
       "  <svg xmlns=\"http://www.w3.org/2000/svg\" height=\"24px\"viewBox=\"0 0 24 24\"\n",
       "       width=\"24px\">\n",
       "    <path d=\"M0 0h24v24H0V0z\" fill=\"none\"/>\n",
       "    <path d=\"M18.56 5.44l.94 2.06.94-2.06 2.06-.94-2.06-.94-.94-2.06-.94 2.06-2.06.94zm-11 1L8.5 8.5l.94-2.06 2.06-.94-2.06-.94L8.5 2.5l-.94 2.06-2.06.94zm10 10l.94 2.06.94-2.06 2.06-.94-2.06-.94-.94-2.06-.94 2.06-2.06.94z\"/><path d=\"M17.41 7.96l-1.37-1.37c-.4-.4-.92-.59-1.43-.59-.52 0-1.04.2-1.43.59L10.3 9.45l-7.72 7.72c-.78.78-.78 2.05 0 2.83L4 21.41c.39.39.9.59 1.41.59.51 0 1.02-.2 1.41-.59l7.78-7.78 2.81-2.81c.8-.78.8-2.07 0-2.86zM5.41 20L4 18.59l7.72-7.72 1.47 1.35L5.41 20z\"/>\n",
       "  </svg>\n",
       "      </button>\n",
       "      \n",
       "  <style>\n",
       "    .colab-df-container {\n",
       "      display:flex;\n",
       "      flex-wrap:wrap;\n",
       "      gap: 12px;\n",
       "    }\n",
       "\n",
       "    .colab-df-convert {\n",
       "      background-color: #E8F0FE;\n",
       "      border: none;\n",
       "      border-radius: 50%;\n",
       "      cursor: pointer;\n",
       "      display: none;\n",
       "      fill: #1967D2;\n",
       "      height: 32px;\n",
       "      padding: 0 0 0 0;\n",
       "      width: 32px;\n",
       "    }\n",
       "\n",
       "    .colab-df-convert:hover {\n",
       "      background-color: #E2EBFA;\n",
       "      box-shadow: 0px 1px 2px rgba(60, 64, 67, 0.3), 0px 1px 3px 1px rgba(60, 64, 67, 0.15);\n",
       "      fill: #174EA6;\n",
       "    }\n",
       "\n",
       "    [theme=dark] .colab-df-convert {\n",
       "      background-color: #3B4455;\n",
       "      fill: #D2E3FC;\n",
       "    }\n",
       "\n",
       "    [theme=dark] .colab-df-convert:hover {\n",
       "      background-color: #434B5C;\n",
       "      box-shadow: 0px 1px 3px 1px rgba(0, 0, 0, 0.15);\n",
       "      filter: drop-shadow(0px 1px 2px rgba(0, 0, 0, 0.3));\n",
       "      fill: #FFFFFF;\n",
       "    }\n",
       "  </style>\n",
       "\n",
       "      <script>\n",
       "        const buttonEl =\n",
       "          document.querySelector('#df-9d4291da-4b8c-48d1-befc-261041921ca0 button.colab-df-convert');\n",
       "        buttonEl.style.display =\n",
       "          google.colab.kernel.accessAllowed ? 'block' : 'none';\n",
       "\n",
       "        async function convertToInteractive(key) {\n",
       "          const element = document.querySelector('#df-9d4291da-4b8c-48d1-befc-261041921ca0');\n",
       "          const dataTable =\n",
       "            await google.colab.kernel.invokeFunction('convertToInteractive',\n",
       "                                                     [key], {});\n",
       "          if (!dataTable) return;\n",
       "\n",
       "          const docLinkHtml = 'Like what you see? Visit the ' +\n",
       "            '<a target=\"_blank\" href=https://colab.research.google.com/notebooks/data_table.ipynb>data table notebook</a>'\n",
       "            + ' to learn more about interactive tables.';\n",
       "          element.innerHTML = '';\n",
       "          dataTable['output_type'] = 'display_data';\n",
       "          await google.colab.output.renderOutput(dataTable, element);\n",
       "          const docLink = document.createElement('div');\n",
       "          docLink.innerHTML = docLinkHtml;\n",
       "          element.appendChild(docLink);\n",
       "        }\n",
       "      </script>\n",
       "    </div>\n",
       "  </div>\n",
       "  "
      ],
      "text/plain": [
       "       doc_id  sent_index                                           sentence  \\\n",
       "31184   27200         120  ['#', '.', 'Communication', ':', 'Patient', 'S...   \n",
       "45922   34195         113                  ['Followup', 'Instructions', ':']   \n",
       "28741   26493         236  ['2', '.', 'Infectious', 'disease', 'followup'...   \n",
       "46283   34338          97   ['Craig', 'Gabrielle', 'Hamilton', 'Phone', ':']   \n",
       "54126   37447          91  ['You', 'will', 'have', 'have', 'hoarse', 'voi...   \n",
       "...       ...         ...                                                ...   \n",
       "57667   39211         199  ['-', 'At', 'the', '3-week', 'visit', ',', 'th...   \n",
       "56784   39046         160  ['You', 'were', 'also', 'started', 'back', 'on...   \n",
       "58898   39957         137                                    ['Campus', ':']   \n",
       "54477   37687         115  ['?', '?', '?', '?', '?', '?', 'After', '1', '...   \n",
       "181     10116         181  ['Orthopedic', 'Surgery', '(', 'Spine', ')', '...   \n",
       "\n",
       "                                                  labels  \n",
       "31184                                                 []  \n",
       "45922  ['I-Appointment-related followup', 'I-Case-spe...  \n",
       "28741                 ['I-Appointment-related followup']  \n",
       "46283  ['I-Appointment-related followup', 'I-Case-spe...  \n",
       "54126       ['I-Case-specific instructions for patient']  \n",
       "...                                                  ...  \n",
       "57667  ['I-Case-specific instructions for patient', '...  \n",
       "56784       ['I-Case-specific instructions for patient']  \n",
       "58898                 ['I-Appointment-related followup']  \n",
       "54477                                                 []  \n",
       "181    ['I-Appointment-related followup', 'I-Case-spe...  \n",
       "\n",
       "[3021 rows x 4 columns]"
      ]
     },
     "execution_count": 44,
     "metadata": {},
     "output_type": "execute_result"
    }
   ],
   "source": [
    "predicted_follow_ups(y_test, y_predicted1, data1)"
   ]
  },
  {
   "cell_type": "code",
   "execution_count": null,
   "metadata": {},
   "outputs": [],
   "source": [
    "# Citations\n",
    "\n",
    "# Code Basics. (2021, August 28). Text Classification Using BERT & Tensorflow | Deep Learning Tutorial \n",
    "#      47 (Tensorflow, Keras & Python). Retrieved from YouTube: https://www.youtube.com/watch?v=hOCDJyZ6quA&t=1131s\n",
    "# Code Basics. (2021, July 22). What is BERT? | Deep Learning Tutorial \n",
    "#      46 (Tensorflow, Keras & Python). Retrieved from YoutTube: https://www.youtube.com/watch?v=7kLi8u2dJz0\n"
   ]
  }
 ],
 "metadata": {
  "accelerator": "GPU",
  "colab": {
   "machine_shape": "hm",
   "provenance": []
  },
  "gpuClass": "premium",
  "kernelspec": {
   "display_name": "Python 3 (ipykernel)",
   "language": "python",
   "name": "python3"
  },
  "language_info": {
   "codemirror_mode": {
    "name": "ipython",
    "version": 3
   },
   "file_extension": ".py",
   "mimetype": "text/x-python",
   "name": "python",
   "nbconvert_exporter": "python",
   "pygments_lexer": "ipython3",
   "version": "3.9.12"
  }
 },
 "nbformat": 4,
 "nbformat_minor": 1
}
